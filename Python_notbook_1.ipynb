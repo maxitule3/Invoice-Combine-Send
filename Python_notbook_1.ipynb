{
 "cells": [
  {
   "cell_type": "code",
   "execution_count": 14,
   "metadata": {},
   "outputs": [],
   "source": [
    "import sqlite3\n",
    "\n",
    "\n",
    "def check_token():\n",
    "    conn = sqlite3.connect('appdata.db')\n",
    "    c = conn.cursor\n",
    "\n",
    "\n",
    "def get_token(column):\n",
    "    conn = sqlite3.connect('appdata.db')\n",
    "    c = conn.cursor()\n",
    "\n",
    "    c.execute(f\"SELECT {column} FROM qbauth\")\n",
    "    responce = c.fetchone()[0]\n",
    "    conn.commit()\n",
    "    conn.close()\n",
    "    return(responce)\n",
    "\n",
    "#Updates all rows in specified column/table\n",
    "def update_value(table, column, new_value):\n",
    "    conn = sqlite3.connect('appdata.db')\n",
    "    c = conn.cursor()\n",
    "\n",
    "    c.execute(f\"UPDATE {table} SET {column}=:value\", {'value': new_value})\n",
    "    conn.commit()\n",
    "    conn.close()\n",
    "\n",
    "update_value('qbauth', 'app_key', 'efrfr')\n",
    "\n"
   ]
  },
  {
   "cell_type": "code",
   "execution_count": 1,
   "metadata": {},
   "outputs": [
    {
     "name": "stdout",
     "output_type": "stream",
     "text": [
      "2022-09-28\n"
     ]
    }
   ],
   "source": [
    "from datetime import datetime, timedelta\n",
    "import sqlite3\n",
    "\n",
    "#datetime object\n",
    "date_plus30 = datetime.now() + timedelta(days=30)\n",
    "\n",
    "#date time string\n",
    "date_string = date_plus30.strftime(\"%Y-%m-%d\")\n",
    "\n",
    "#convert string to datetime string\n",
    "date_time_obj = datetime.strptime(date_string, \"%Y-%m-%d\").date()\n",
    "\n",
    "\n",
    "def update_refresh_date():\n",
    "    date_plus100 = datetime.now() + timedelta(days=100)\n",
    "    date_string = date_plus100.strftime(\"%Y-%m-%d\")\n",
    "\n",
    "    conn = sqlite3.connect('appdata.db')\n",
    "    c = conn.cursor()\n",
    "\n",
    "    c.execute(\"UPDATE qbauth SET next_generate=:date\", {'date': date_string})\n",
    "    conn.commit()\n",
    "    conn.close()\n",
    "\n",
    "\n",
    "#returns datetime object\n",
    "def get_next_generate():\n",
    "    conn = sqlite3.connect('appdata.db')\n",
    "    c = conn.cursor()\n",
    "    c.execute(\"SELECT next_generate FROM qbauth\")\n",
    "    responce = c.fetchone()[0]\n",
    "    conn.commit()\n",
    "    conn.close()\n",
    "\n",
    "    date_time_obj = datetime.strptime(responce, \"%Y-%m-%d\").date()\n",
    "    return(date_time_obj)\n",
    "\n",
    "def get_next_generate():\n",
    "    conn = sqlite3.connect('appdata.db')\n",
    "    c = conn.cursor()\n",
    "    c.execute(\"SELECT next_generate FROM qbauth\")\n",
    "    responce = c.fetchone()[0]\n",
    "    conn.commit()\n",
    "    conn.close()\n",
    "\n",
    "    date_time_obj = datetime.strptime(responce, \"%Y-%m-%d\").date()\n",
    "    print(responce)\n",
    "\n",
    "get_next_generate()"
   ]
  },
  {
   "cell_type": "code",
   "execution_count": 32,
   "metadata": {},
   "outputs": [],
   "source": [
    "import sqlite3\n",
    "from datetime import datetime, timedelta, date\n",
    "\n",
    "def check_token_expire():\n",
    "    conn = sqlite3.connect('appdata.db')\n",
    "    c = conn.cursor()\n",
    "    c.execute(\"SELECT next_token FROM qbauth\")\n",
    "    responce = c.fetchone()[0]\n",
    "    conn.commit()\n",
    "    conn.close()\n",
    "\n",
    "    date_time_obj = datetime.strptime(responce, \"%Y-%m-%d %H:%M:%S\")\n",
    "\n",
    "    if datetime.now() < date_time_obj:\n",
    "        return(True)\n",
    "\n",
    "    else:\n",
    "        return(False)\n",
    "\n",
    "\n",
    "\n"
   ]
  }
 ],
 "metadata": {
  "kernelspec": {
   "display_name": "Python 3.10.2 64-bit",
   "language": "python",
   "name": "python3"
  },
  "language_info": {
   "codemirror_mode": {
    "name": "ipython",
    "version": 3
   },
   "file_extension": ".py",
   "mimetype": "text/x-python",
   "name": "python",
   "nbconvert_exporter": "python",
   "pygments_lexer": "ipython3",
   "version": "3.10.2"
  },
  "orig_nbformat": 4,
  "vscode": {
   "interpreter": {
    "hash": "26de051ba29f2982a8de78e945f0abaf191376122a1563185a90213a26c5da77"
   }
  }
 },
 "nbformat": 4,
 "nbformat_minor": 2
}
